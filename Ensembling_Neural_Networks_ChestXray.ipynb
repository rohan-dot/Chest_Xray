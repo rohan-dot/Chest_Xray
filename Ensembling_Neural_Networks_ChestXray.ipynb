{
  "cells": [
    {
      "metadata": {
        "_uuid": "8f2839f25d086af736a60e9eeb907d3b93b6e0e5",
        "_cell_guid": "b1076dfc-b9ad-4769-8c92-a6c4dae69d19",
        "trusted": true
      },
      "cell_type": "code",
      "source": "# This Python 3 environment comes with many helpful analytics libraries installed\n# It is defined by the kaggle/python docker image: https://github.com/kaggle/docker-python\n# For example, here's several helpful packages to load in \n\nimport numpy as np # linear algebra\nimport pandas as pd # data processing, CSV file I/O (e.g. pd.read_csv)\nfrom sklearn.utils import class_weight\nimport numpy as np # linear algebra\nimport pandas as pd # data processing, CSV file I/O (e.g. pd.read_csv)\nfrom keras.applications.inception_v3 import InceptionV3, preprocess_input\n    \n# Input data files are available in the \"../input/\" directory.\n# For example, running this (by clicking run or pressing Shift+Enter) will list the files in the input directory\nfrom sklearn.datasets import load_files       \nfrom keras.utils import np_utils\nimport numpy as np\nfrom glob import glob\nfrom PIL import ImageFile       \n\nfrom keras.preprocessing import image                  \nfrom tqdm import tqdm\n\nimport numpy as np # linear algebra\nimport pandas as pd # data processing, CSV file I/O (e.g. pd.read_csv)\nfrom keras import applications\n# Input data files are available in the \"../input/\" directory.\n# For example, running this (by clicking run or pressing Shift+Enter) will list the files in the input directory\nimport keras\nfrom sklearn.metrics import accuracy_score\nfrom vecstack import stacking\nfrom keras.wrappers.scikit_learn import KerasClassifier\nfrom keras.models import Sequential\nfrom keras.layers import Conv2D\nfrom keras.layers import MaxPooling2D\nfrom keras.models import Sequential\nfrom keras.models import Model\nfrom keras.callbacks import ModelCheckpoint, LearningRateScheduler, EarlyStopping, ReduceLROnPlateau, TensorBoard\nfrom keras import optimizers, losses, activations, models\nfrom keras.layers import Convolution2D, Dense, Input, Flatten, Dropout, MaxPooling2D, BatchNormalization, GlobalAveragePooling2D, Concatenate\nfrom keras.layers import Flatten\nfrom keras.layers import Dense\nfrom keras.preprocessing.image import ImageDataGenerator, load_img\nimport os\nfrom keras.models import Sequential\nfrom keras.layers import Conv2D, MaxPooling2D\nfrom keras.layers import Activation, Dropout, Flatten, Dense\nprint(os.listdir(\"../input\"))\n\nimport os\nprint(os.listdir(\"../input\"))\n\n# Input data files are available in the \"../input/\" directory.\n# For example, running this (by clicking run or pressing Shift+Enter) will list the files in the input directory\n\nimport os\nprint(os.listdir(\"../input\"))\n\n# Any results you write to the current directory are saved as output.",
      "execution_count": 1,
      "outputs": [
        {
          "output_type": "stream",
          "text": "Using TensorFlow backend.\n",
          "name": "stderr"
        },
        {
          "output_type": "stream",
          "text": "['chest_xray_kag']\n['chest_xray_kag']\n['chest_xray_kag']\n",
          "name": "stdout"
        }
      ]
    },
    {
      "metadata": {
        "trusted": true,
        "_uuid": "fe7a056b3f9e544a2f85a85f2398dbc1731245ed"
      },
      "cell_type": "code",
      "source": "#print(os.listdir(\"../input/inception-v3/inception_v3.ckpt\"))",
      "execution_count": 2,
      "outputs": []
    },
    {
      "metadata": {
        "_cell_guid": "79c7e3d0-c299-4dcb-8224-4455121ee9b0",
        "_uuid": "d629ff2d2480ee46fbb7e2d37f6b5fab8052498a",
        "trusted": true
      },
      "cell_type": "code",
      "source": "def load_dataset(path):\n    data = load_files(path)\n    chest_files = np.array(data['filenames'])\n    chest_targets = np_utils.to_categorical(np.array(data['target']), 2)\n    return chest_files, chest_targets",
      "execution_count": 3,
      "outputs": []
    },
    {
      "metadata": {
        "_uuid": "4872bed354072c3fd06ce43effc1f9adfe01f0a8"
      },
      "cell_type": "markdown",
      "source": "**Train Files and Testing files are loaded**\n"
    },
    {
      "metadata": {
        "trusted": true,
        "_uuid": "f32112af1c7a53aff41ab635c046ff310dcc2bf2"
      },
      "cell_type": "code",
      "source": "train_files, train_targets = load_dataset('../input/chest_xray_kag/chest_xray/train')\nvalid_files, valid_targets = load_dataset('../input/chest_xray_kag/chest_xray/test')",
      "execution_count": 4,
      "outputs": []
    },
    {
      "metadata": {
        "trusted": true,
        "_uuid": "d175b62019b63d47fed39f909a16534d992ed288"
      },
      "cell_type": "code",
      "source": "tf , t_targets = load_dataset('../input/chest_xray_kag/chest_xray/train')",
      "execution_count": 5,
      "outputs": []
    },
    {
      "metadata": {
        "trusted": true,
        "_uuid": "f5659bdebc6f3ef5cdc8bbc3a4b7789b5674e105"
      },
      "cell_type": "code",
      "source": "train_targets.shape",
      "execution_count": null,
      "outputs": []
    },
    {
      "metadata": {
        "trusted": true,
        "_uuid": "e0f635dd4d62718f9de5f896dc0f7613d7a660f7"
      },
      "cell_type": "code",
      "source": "def path_to_tensor(img_path):\n    img = image.load_img(img_path, target_size=(224, 224))\n    x = image.img_to_array(img)\n    return np.expand_dims(x, axis=0)\n\ndef paths_to_tensor(img_paths):\n    list_of_tensors = [path_to_tensor(img_path) for img_path in tqdm(img_paths)]\n    return np.vstack(list_of_tensors)",
      "execution_count": 6,
      "outputs": []
    },
    {
      "metadata": {
        "_uuid": "bea5e0e895009fb33773077e35db5d67bce563ae"
      },
      "cell_type": "markdown",
      "source": "**All files are converted to 4-d tensors for pre-trained cnn architectures**"
    },
    {
      "metadata": {
        "trusted": true,
        "_uuid": "47333a9064f296212f4e383cb7300b4bd667d6ed"
      },
      "cell_type": "code",
      "source": "train_tensors = paths_to_tensor(train_files).astype('float32')/255\nvalid_tensors = paths_to_tensor(valid_files).astype('float32')/255",
      "execution_count": 7,
      "outputs": [
        {
          "output_type": "stream",
          "text": "100%|██████████| 5216/5216 [01:01<00:00, 85.29it/s] \n100%|██████████| 624/624 [00:06<00:00, 101.97it/s]\n",
          "name": "stderr"
        }
      ]
    },
    {
      "metadata": {
        "trusted": true,
        "_uuid": "41c5b1be694db8b78b6de3cfe23c01423188810c"
      },
      "cell_type": "code",
      "source": "def extract_InceptionV3(tensor):\n    #from keras.applications.inception_v3 import InceptionV3, preprocess_input\n    return InceptionV3(weights='imagenet', include_top=False).predict(preprocess_input(tensor))\n\ndef extract_VGG16(tensor):\n    from keras.applications.vgg16 import VGG16, preprocess_input\n    return VGG16(weights='imagenet', include_top=False).predict(preprocess_input(tensor))\n\ndef extract_VGG19(tensor):\n    from keras.applications.vgg19 import VGG19, preprocess_input\n    return VGG19(weights='imagenet', include_top=False).predict(preprocess_input(tensor))\n\ndef extract_Resnet50(tensor):\n    from keras.applications.resnet50 import ResNet50, preprocess_input\n    return ResNet50(weights='imagenet', include_top=False).predict(preprocess_input(tensor))\n\ndef extract_Xception(tensor):\n    from keras.applications.xception import Xception, preprocess_input\n    return Xception(weights='imagenet', include_top=False).predict(preprocess_input(tensor))",
      "execution_count": 8,
      "outputs": []
    },
    {
      "metadata": {
        "_uuid": "f5d76c87ee21822f341ab8c31d2210e865cd581b"
      },
      "cell_type": "markdown",
      "source": "**Features are extracted from the Inception and Resnet model for the training and testing tensors**"
    },
    {
      "metadata": {
        "trusted": true,
        "_uuid": "319a5100b67191388da8d5f0e0260c18c1051bd0"
      },
      "cell_type": "code",
      "source": "training_incpetion = extract_InceptionV3(train_tensors)\n\n#testing_incpetion = extract_InceptionV3(valid_tensors)\n#extract_Xception(train_tensors)\n#extract_Resnet50(train_tensors)\n#extract_VGG19(train_tensors)\n#extract_VGG16(train_tensors)",
      "execution_count": 9,
      "outputs": [
        {
          "output_type": "stream",
          "text": "Downloading data from https://github.com/fchollet/deep-learning-models/releases/download/v0.5/inception_v3_weights_tf_dim_ordering_tf_kernels_notop.h5\n87916544/87910968 [==============================] - 3s 0us/step\n",
          "name": "stdout"
        }
      ]
    },
    {
      "metadata": {
        "trusted": true,
        "_uuid": "fe4ec96611e9764080809ecd94c38cd329c76597"
      },
      "cell_type": "code",
      "source": "#training_xception = extract_Xception(train_tensors)",
      "execution_count": null,
      "outputs": []
    },
    {
      "metadata": {
        "trusted": true,
        "_uuid": "0594a59f90d87e681435540051bb077928c4bf24"
      },
      "cell_type": "code",
      "source": "training_resnet = extract_Resnet50(train_tensors)\n",
      "execution_count": 10,
      "outputs": [
        {
          "output_type": "stream",
          "text": "/opt/conda/lib/python3.6/site-packages/keras_applications/resnet50.py:265: UserWarning: The output shape of `ResNet50(include_top=False)` has been changed since Keras 2.2.0.\n  warnings.warn('The output shape of `ResNet50(include_top=False)` '\n",
          "name": "stderr"
        },
        {
          "output_type": "stream",
          "text": "Downloading data from https://github.com/fchollet/deep-learning-models/releases/download/v0.2/resnet50_weights_tf_dim_ordering_tf_kernels_notop.h5\n94658560/94653016 [==============================] - 3s 0us/step\n",
          "name": "stdout"
        }
      ]
    },
    {
      "metadata": {
        "trusted": true,
        "_uuid": "465dbad6686eb20b0cba98a9b9b554f889f8a39d"
      },
      "cell_type": "code",
      "source": "",
      "execution_count": null,
      "outputs": []
    },
    {
      "metadata": {
        "trusted": true,
        "_uuid": "28b5c226f863ddd4b72a06d89073d8773391ad39"
      },
      "cell_type": "code",
      "source": "#training_vgg19 = extract_VGG19(train_tensors)",
      "execution_count": null,
      "outputs": []
    },
    {
      "metadata": {
        "trusted": true,
        "_uuid": "a8e60eed1f07c4930905e99f727c4b9ef8959776"
      },
      "cell_type": "code",
      "source": "\n#training_vgg16 = extract_VGG16(train_tensors)",
      "execution_count": null,
      "outputs": []
    },
    {
      "metadata": {
        "trusted": true,
        "_uuid": "9bc6d97d369b0032eb801e3f6ee970d6687b496a"
      },
      "cell_type": "code",
      "source": "testing_incpetion = extract_InceptionV3(valid_tensors)",
      "execution_count": 11,
      "outputs": []
    },
    {
      "metadata": {
        "trusted": true,
        "_uuid": "f18c3f2588311b526fde744978289b69de017e40"
      },
      "cell_type": "code",
      "source": "#testing_xcpetion = extract_Xception(valid_tensors)",
      "execution_count": null,
      "outputs": []
    },
    {
      "metadata": {
        "trusted": true,
        "_uuid": "aaab47ca01ec13dafc6fd839e25b28d7b49f1a3b"
      },
      "cell_type": "code",
      "source": "testing_resnet = extract_Resnet50(valid_tensors)",
      "execution_count": 12,
      "outputs": [
        {
          "output_type": "stream",
          "text": "/opt/conda/lib/python3.6/site-packages/keras_applications/resnet50.py:265: UserWarning: The output shape of `ResNet50(include_top=False)` has been changed since Keras 2.2.0.\n  warnings.warn('The output shape of `ResNet50(include_top=False)` '\n",
          "name": "stderr"
        }
      ]
    },
    {
      "metadata": {
        "trusted": true,
        "_uuid": "9e20862a4e5c44b61e18247046cda569c6310ebf"
      },
      "cell_type": "code",
      "source": "#testing_vgg19 = extract_VGG19(valid_tensors)",
      "execution_count": null,
      "outputs": []
    },
    {
      "metadata": {
        "trusted": true,
        "_uuid": "5125466715605f89fb54804de6479d5d23c59df6"
      },
      "cell_type": "code",
      "source": "#testing_vgg16 = extract_VGG16(valid_tensors)",
      "execution_count": null,
      "outputs": []
    },
    {
      "metadata": {
        "_uuid": "15e524ddee86e22c617754a5a0333c0ce3081b3e"
      },
      "cell_type": "markdown",
      "source": "**Inception and Resnet models are finetuned with pooling and dense layers**"
    },
    {
      "metadata": {
        "trusted": true,
        "_uuid": "d45761edc9de938aadbc6ee033622d5274399323"
      },
      "cell_type": "code",
      "source": "inception = Sequential()\ninception.add(GlobalAveragePooling2D(input_shape=training_incpetion.shape[1:]))\ninception.add(Dense(1024, activation='relu'))\ninception.add(Dense(2, activation='sigmoid'))\n#inception.add(Dense(n_class, activation='softmax'))\n\ninception.compile(optimizer='adam',\n            loss='binary_crossentropy',\n            metrics=['accuracy'],\n           )\ninception.summary()",
      "execution_count": 13,
      "outputs": [
        {
          "output_type": "stream",
          "text": "_________________________________________________________________\nLayer (type)                 Output Shape              Param #   \n=================================================================\nglobal_average_pooling2d_1 ( (None, 2048)              0         \n_________________________________________________________________\ndense_1 (Dense)              (None, 1024)              2098176   \n_________________________________________________________________\ndense_2 (Dense)              (None, 2)                 2050      \n=================================================================\nTotal params: 2,100,226\nTrainable params: 2,100,226\nNon-trainable params: 0\n_________________________________________________________________\n",
          "name": "stdout"
        }
      ]
    },
    {
      "metadata": {
        "trusted": true,
        "_uuid": "18fb87485f5e435ba7c4e083babacf4fb7594f87"
      },
      "cell_type": "code",
      "source": "",
      "execution_count": null,
      "outputs": []
    },
    {
      "metadata": {
        "trusted": true,
        "_uuid": "79d1158cc1292a7489ba1e2d565e5d58551de1cb"
      },
      "cell_type": "code",
      "source": "",
      "execution_count": null,
      "outputs": []
    },
    {
      "metadata": {
        "trusted": true,
        "_uuid": "97848444c6d704accf637f7a86703b739aedf19b"
      },
      "cell_type": "code",
      "source": "Resnet_model = Sequential()\nResnet_model.add(GlobalAveragePooling2D(input_shape=training_resnet.shape[1:]))\nResnet_model.add(Dense(1024, activation='relu'))\n#Resnet_model.add(Dropout(0.2))\n#Resnet_model.add(Dense(512, activation='relu'))\n\n\n#Resnet_model.add(Dropout(0.2, input_shape=training_resnet.shape[1:]))\nResnet_model.add(Dense(2, activation='sigmoid'))\n\nResnet_model.compile(optimizer='adam',\n            loss='binary_crossentropy',\n            metrics=['accuracy'],\n           )\n\nResnet_model.summary()",
      "execution_count": 14,
      "outputs": [
        {
          "output_type": "stream",
          "text": "_________________________________________________________________\nLayer (type)                 Output Shape              Param #   \n=================================================================\nglobal_average_pooling2d_2 ( (None, 2048)              0         \n_________________________________________________________________\ndense_3 (Dense)              (None, 1024)              2098176   \n_________________________________________________________________\ndense_4 (Dense)              (None, 2)                 2050      \n=================================================================\nTotal params: 2,100,226\nTrainable params: 2,100,226\nNon-trainable params: 0\n_________________________________________________________________\n",
          "name": "stdout"
        }
      ]
    },
    {
      "metadata": {
        "trusted": true,
        "_uuid": "ac2f1f47d7f8861c997e4b2541821eb6a605d72c"
      },
      "cell_type": "markdown",
      "source": "**Making own CNN with data augmentation**"
    },
    {
      "metadata": {
        "trusted": true,
        "_uuid": "57552ecb579614819bffed963d5533a84cb75c09"
      },
      "cell_type": "code",
      "source": "model = Sequential()\nmodel.add(Conv2D(32, (3, 3), input_shape=(224, 224, 3)))\nmodel.add(Activation('relu'))\nmodel.add(MaxPooling2D(pool_size=(2, 2)))\n\nmodel.add(Conv2D(32, (3, 3)))\nmodel.add(Activation('relu'))\nmodel.add(MaxPooling2D(pool_size=(2, 2)))\n\nmodel.add(Conv2D(64, (3, 3)))\nmodel.add(Activation('relu'))\nmodel.add(MaxPooling2D(pool_size=(2, 2)))",
      "execution_count": 15,
      "outputs": []
    },
    {
      "metadata": {
        "trusted": true,
        "_uuid": "bb495d1a5eb723ad74f9c46b4b57c45bbe7ba007"
      },
      "cell_type": "code",
      "source": "model.add(Flatten()) \nmodel.add(Dense(64))\nmodel.add(Activation('relu'))\nmodel.add(Dropout(0.5))\nmodel.add(Dense(1))\nmodel.add(Activation('sigmoid'))\n\nmodel.compile(loss='binary_crossentropy',\n              optimizer='adam',\n              metrics=['accuracy'])",
      "execution_count": 16,
      "outputs": []
    },
    {
      "metadata": {
        "trusted": true,
        "_uuid": "cd2216d2b71550d9e518a91bd889604df5894bed"
      },
      "cell_type": "code",
      "source": "\nbatch_size = 16\ntrain_datagen = ImageDataGenerator(\n        rescale=1./255,\n        shear_range=0.2,\n        zoom_range=0.2,\n        horizontal_flip=True)\n\n\ntest_datagen = ImageDataGenerator(rescale=1./255)\ntrain_generator = train_datagen.flow_from_directory(\n        '../input/chest_xray_kag/chest_xray/train',  \n        target_size=(224, 224),\n        batch_size=batch_size,\n        class_mode='binary')  \nvalidation_generator = test_datagen.flow_from_directory(\n        '../input/chest_xray_kag/chest_xray/test',\n        target_size=(224, 224),\n        batch_size=batch_size,\n        class_mode='binary')",
      "execution_count": 17,
      "outputs": [
        {
          "output_type": "stream",
          "text": "Found 5216 images belonging to 2 classes.\nFound 624 images belonging to 2 classes.\n",
          "name": "stdout"
        }
      ]
    },
    {
      "metadata": {
        "trusted": true,
        "_uuid": "300df993bb5f991e5a9433a07f59ebd941a0185e"
      },
      "cell_type": "code",
      "source": "history = model.fit_generator(\n        train_generator,\n        steps_per_epoch=2000 // batch_size,\n        epochs=15,\n        validation_data=validation_generator,\n        validation_steps=800 // batch_size)\nmodel.save_weights('first_try.h5')\n",
      "execution_count": 18,
      "outputs": [
        {
          "output_type": "stream",
          "text": "Epoch 1/15\n125/125 [==============================] - 59s 475ms/step - loss: 0.4700 - acc: 0.7690 - val_loss: 0.7025 - val_acc: 0.6637\nEpoch 2/15\n125/125 [==============================] - 54s 435ms/step - loss: 0.3820 - acc: 0.8300 - val_loss: 0.8543 - val_acc: 0.6875\nEpoch 3/15\n125/125 [==============================] - 53s 421ms/step - loss: 0.3212 - acc: 0.8675 - val_loss: 0.5997 - val_acc: 0.7400\nEpoch 4/15\n125/125 [==============================] - 56s 448ms/step - loss: 0.3121 - acc: 0.8745 - val_loss: 0.4981 - val_acc: 0.7175\nEpoch 5/15\n125/125 [==============================] - 56s 445ms/step - loss: 0.3043 - acc: 0.8775 - val_loss: 0.6149 - val_acc: 0.7700\nEpoch 6/15\n125/125 [==============================] - 54s 434ms/step - loss: 0.2693 - acc: 0.8990 - val_loss: 0.8361 - val_acc: 0.7425\nEpoch 7/15\n125/125 [==============================] - 56s 448ms/step - loss: 0.2756 - acc: 0.9040 - val_loss: 0.4300 - val_acc: 0.7950\nEpoch 8/15\n125/125 [==============================] - 56s 447ms/step - loss: 0.2361 - acc: 0.9090 - val_loss: 0.4457 - val_acc: 0.7937\nEpoch 9/15\n125/125 [==============================] - 53s 421ms/step - loss: 0.2491 - acc: 0.9085 - val_loss: 0.4175 - val_acc: 0.8025\nEpoch 10/15\n125/125 [==============================] - 52s 414ms/step - loss: 0.2403 - acc: 0.9155 - val_loss: 0.6226 - val_acc: 0.7662\nEpoch 11/15\n125/125 [==============================] - 52s 416ms/step - loss: 0.2351 - acc: 0.9145 - val_loss: 0.5285 - val_acc: 0.7625\nEpoch 12/15\n125/125 [==============================] - 52s 412ms/step - loss: 0.2215 - acc: 0.9240 - val_loss: 0.5275 - val_acc: 0.7788\nEpoch 13/15\n125/125 [==============================] - 51s 410ms/step - loss: 0.2290 - acc: 0.9180 - val_loss: 0.3575 - val_acc: 0.8538\nEpoch 14/15\n125/125 [==============================] - 54s 433ms/step - loss: 0.2272 - acc: 0.9100 - val_loss: 0.4264 - val_acc: 0.8175\nEpoch 15/15\n125/125 [==============================] - 53s 424ms/step - loss: 0.1966 - acc: 0.9360 - val_loss: 0.5469 - val_acc: 0.8075\n",
          "name": "stdout"
        }
      ]
    },
    {
      "metadata": {
        "trusted": true,
        "_uuid": "435a217e633d158c76cb7b39203bbe621d456304"
      },
      "cell_type": "code",
      "source": " inception_history = inception.fit(training_incpetion, train_targets, \n          validation_data=(testing_incpetion, valid_targets),\n          epochs=50, \n          #callbacks=inception_callbacks,\n          #class_weight=class_weight,\n          batch_size=16, verbose=1)",
      "execution_count": 19,
      "outputs": [
        {
          "output_type": "stream",
          "text": "Train on 5216 samples, validate on 624 samples\nEpoch 1/50\n5216/5216 [==============================] - 8s 1ms/step - loss: 0.3009 - acc: 0.8659 - val_loss: 0.4870 - val_acc: 0.7764\nEpoch 2/50\n5216/5216 [==============================] - 4s 708us/step - loss: 0.1802 - acc: 0.9271 - val_loss: 0.7657 - val_acc: 0.7067\nEpoch 3/50\n5216/5216 [==============================] - 4s 711us/step - loss: 0.1688 - acc: 0.9300 - val_loss: 0.5680 - val_acc: 0.7796\nEpoch 4/50\n5216/5216 [==============================] - 4s 710us/step - loss: 0.1402 - acc: 0.9474 - val_loss: 0.7542 - val_acc: 0.7404\nEpoch 5/50\n5216/5216 [==============================] - 4s 712us/step - loss: 0.1432 - acc: 0.9456 - val_loss: 0.4990 - val_acc: 0.8141\nEpoch 6/50\n5216/5216 [==============================] - 4s 704us/step - loss: 0.1268 - acc: 0.9513 - val_loss: 0.5247 - val_acc: 0.8109\nEpoch 7/50\n5216/5216 [==============================] - 4s 707us/step - loss: 0.1129 - acc: 0.9578 - val_loss: 0.4156 - val_acc: 0.8381\nEpoch 8/50\n5216/5216 [==============================] - 4s 718us/step - loss: 0.1153 - acc: 0.9562 - val_loss: 0.9483 - val_acc: 0.7067\nEpoch 9/50\n5216/5216 [==============================] - 4s 709us/step - loss: 0.1095 - acc: 0.9562 - val_loss: 0.9606 - val_acc: 0.7179\nEpoch 10/50\n5216/5216 [==============================] - 4s 705us/step - loss: 0.1104 - acc: 0.9589 - val_loss: 0.9662 - val_acc: 0.7035\nEpoch 11/50\n5216/5216 [==============================] - 4s 708us/step - loss: 0.1087 - acc: 0.9553 - val_loss: 1.6490 - val_acc: 0.6490\nEpoch 12/50\n5216/5216 [==============================] - 4s 705us/step - loss: 0.1007 - acc: 0.9616 - val_loss: 0.5017 - val_acc: 0.8269\nEpoch 13/50\n5216/5216 [==============================] - 4s 709us/step - loss: 0.1070 - acc: 0.9576 - val_loss: 0.9534 - val_acc: 0.7163\nEpoch 14/50\n5216/5216 [==============================] - 4s 708us/step - loss: 0.0970 - acc: 0.9638 - val_loss: 0.8984 - val_acc: 0.7260\nEpoch 15/50\n5216/5216 [==============================] - 4s 704us/step - loss: 0.0991 - acc: 0.9613 - val_loss: 0.5913 - val_acc: 0.7981\nEpoch 16/50\n5216/5216 [==============================] - 4s 711us/step - loss: 0.0877 - acc: 0.9662 - val_loss: 0.4424 - val_acc: 0.8373\nEpoch 17/50\n5216/5216 [==============================] - 4s 707us/step - loss: 0.0915 - acc: 0.9657 - val_loss: 1.0140 - val_acc: 0.7147\nEpoch 18/50\n5216/5216 [==============================] - 4s 711us/step - loss: 0.0900 - acc: 0.9631 - val_loss: 1.0566 - val_acc: 0.7011\nEpoch 19/50\n5216/5216 [==============================] - 4s 706us/step - loss: 0.0863 - acc: 0.9684 - val_loss: 0.4461 - val_acc: 0.8438\nEpoch 20/50\n5216/5216 [==============================] - 4s 717us/step - loss: 0.0913 - acc: 0.9647 - val_loss: 1.1407 - val_acc: 0.7035\nEpoch 21/50\n5216/5216 [==============================] - 4s 716us/step - loss: 0.0762 - acc: 0.9719 - val_loss: 0.4533 - val_acc: 0.8429\nEpoch 22/50\n5216/5216 [==============================] - 4s 710us/step - loss: 0.0735 - acc: 0.9706 - val_loss: 0.4588 - val_acc: 0.8341\nEpoch 23/50\n5216/5216 [==============================] - 4s 707us/step - loss: 0.0900 - acc: 0.9656 - val_loss: 1.5776 - val_acc: 0.6683\nEpoch 24/50\n5216/5216 [==============================] - 4s 719us/step - loss: 0.0808 - acc: 0.9671 - val_loss: 0.5660 - val_acc: 0.8269\nEpoch 25/50\n5216/5216 [==============================] - 4s 709us/step - loss: 0.0725 - acc: 0.9707 - val_loss: 0.6839 - val_acc: 0.7885\nEpoch 26/50\n5216/5216 [==============================] - 4s 707us/step - loss: 0.0857 - acc: 0.9669 - val_loss: 0.8233 - val_acc: 0.7580\nEpoch 27/50\n5216/5216 [==============================] - 4s 710us/step - loss: 0.0775 - acc: 0.9678 - val_loss: 0.5831 - val_acc: 0.8125\nEpoch 28/50\n5216/5216 [==============================] - 4s 710us/step - loss: 0.0795 - acc: 0.9691 - val_loss: 0.7259 - val_acc: 0.7893\nEpoch 29/50\n5216/5216 [==============================] - 4s 707us/step - loss: 0.0797 - acc: 0.9672 - val_loss: 0.7653 - val_acc: 0.7772\nEpoch 30/50\n5216/5216 [==============================] - 4s 710us/step - loss: 0.0684 - acc: 0.9726 - val_loss: 1.3295 - val_acc: 0.6907\nEpoch 31/50\n5216/5216 [==============================] - 4s 709us/step - loss: 0.0705 - acc: 0.9709 - val_loss: 0.5524 - val_acc: 0.8293\nEpoch 32/50\n5216/5216 [==============================] - 4s 708us/step - loss: 0.0718 - acc: 0.9711 - val_loss: 1.1124 - val_acc: 0.7364\nEpoch 33/50\n5216/5216 [==============================] - 4s 708us/step - loss: 0.0662 - acc: 0.9749 - val_loss: 0.4870 - val_acc: 0.8365\nEpoch 34/50\n5216/5216 [==============================] - 4s 711us/step - loss: 0.0821 - acc: 0.9649 - val_loss: 0.3484 - val_acc: 0.8582\nEpoch 35/50\n5216/5216 [==============================] - 4s 717us/step - loss: 0.0832 - acc: 0.9659 - val_loss: 1.0318 - val_acc: 0.7348\nEpoch 36/50\n5216/5216 [==============================] - 4s 739us/step - loss: 0.0736 - acc: 0.9717 - val_loss: 0.5165 - val_acc: 0.8405\nEpoch 37/50\n5216/5216 [==============================] - 4s 715us/step - loss: 0.0606 - acc: 0.9751 - val_loss: 0.5922 - val_acc: 0.8237\nEpoch 38/50\n5216/5216 [==============================] - 4s 713us/step - loss: 0.0642 - acc: 0.9716 - val_loss: 0.7093 - val_acc: 0.7933\nEpoch 39/50\n5216/5216 [==============================] - 4s 712us/step - loss: 0.0756 - acc: 0.9706 - val_loss: 0.7048 - val_acc: 0.7965\nEpoch 40/50\n5216/5216 [==============================] - 4s 724us/step - loss: 0.0579 - acc: 0.9786 - val_loss: 0.5836 - val_acc: 0.8317\nEpoch 41/50\n5216/5216 [==============================] - 4s 710us/step - loss: 0.0775 - acc: 0.9696 - val_loss: 0.4853 - val_acc: 0.8438\nEpoch 42/50\n5216/5216 [==============================] - 4s 705us/step - loss: 0.0580 - acc: 0.9780 - val_loss: 1.0654 - val_acc: 0.7436\nEpoch 43/50\n5216/5216 [==============================] - 4s 716us/step - loss: 0.0707 - acc: 0.9722 - val_loss: 0.6864 - val_acc: 0.7885\nEpoch 44/50\n5216/5216 [==============================] - 4s 712us/step - loss: 0.0580 - acc: 0.9772 - val_loss: 0.9060 - val_acc: 0.7652\nEpoch 45/50\n5216/5216 [==============================] - 4s 713us/step - loss: 0.0556 - acc: 0.9788 - val_loss: 1.0537 - val_acc: 0.7548\nEpoch 46/50\n5216/5216 [==============================] - 4s 711us/step - loss: 0.0606 - acc: 0.9768 - val_loss: 0.9245 - val_acc: 0.7596\nEpoch 47/50\n5216/5216 [==============================] - 4s 710us/step - loss: 0.0561 - acc: 0.9771 - val_loss: 0.5923 - val_acc: 0.8357\nEpoch 48/50\n5216/5216 [==============================] - 4s 717us/step - loss: 0.0482 - acc: 0.9806 - val_loss: 1.2624 - val_acc: 0.7372\nEpoch 49/50\n5216/5216 [==============================] - 4s 716us/step - loss: 0.0568 - acc: 0.9802 - val_loss: 0.8453 - val_acc: 0.7893\nEpoch 50/50\n5216/5216 [==============================] - 4s 715us/step - loss: 0.0530 - acc: 0.9794 - val_loss: 1.7433 - val_acc: 0.6827\n",
          "name": "stdout"
        }
      ]
    },
    {
      "metadata": {
        "trusted": true,
        "_uuid": "d3385f5cb0161057fbdb7a59efc7210c93c089fa"
      },
      "cell_type": "code",
      "source": " resnet_history =Resnet_model.fit(training_resnet, train_targets, \n          validation_data=(testing_resnet, valid_targets),\n          epochs=10, \n          #callbacks=inception_callbacks,\n          #class_weight=class_weight,\n          batch_size=16, verbose=1)",
      "execution_count": 20,
      "outputs": [
        {
          "output_type": "stream",
          "text": "Train on 5216 samples, validate on 624 samples\nEpoch 1/10\n5216/5216 [==============================] - 8s 2ms/step - loss: 0.6032 - acc: 0.7304 - val_loss: 0.6726 - val_acc: 0.6250\nEpoch 2/10\n5216/5216 [==============================] - 4s 774us/step - loss: 0.5741 - acc: 0.7429 - val_loss: 0.7319 - val_acc: 0.6250\nEpoch 3/10\n5216/5216 [==============================] - 4s 779us/step - loss: 0.5747 - acc: 0.7429 - val_loss: 0.6712 - val_acc: 0.6250\nEpoch 4/10\n5216/5216 [==============================] - 4s 772us/step - loss: 0.5737 - acc: 0.7429 - val_loss: 0.6987 - val_acc: 0.6250\nEpoch 5/10\n5216/5216 [==============================] - 4s 797us/step - loss: 0.5731 - acc: 0.7429 - val_loss: 0.6865 - val_acc: 0.6250\nEpoch 6/10\n5216/5216 [==============================] - 4s 775us/step - loss: 0.5728 - acc: 0.7429 - val_loss: 0.6823 - val_acc: 0.6250\nEpoch 7/10\n5216/5216 [==============================] - 4s 771us/step - loss: 0.5717 - acc: 0.7429 - val_loss: 0.7264 - val_acc: 0.6250\nEpoch 8/10\n5216/5216 [==============================] - 4s 771us/step - loss: 0.5726 - acc: 0.7429 - val_loss: 0.7020 - val_acc: 0.6250\nEpoch 9/10\n5216/5216 [==============================] - 4s 779us/step - loss: 0.5726 - acc: 0.7429 - val_loss: 0.7061 - val_acc: 0.6250\nEpoch 10/10\n5216/5216 [==============================] - 4s 776us/step - loss: 0.5728 - acc: 0.7429 - val_loss: 0.6839 - val_acc: 0.6250\n",
          "name": "stdout"
        }
      ]
    },
    {
      "metadata": {
        "trusted": true,
        "_uuid": "b8d533bf92a7e5f67f8873f25985e67cc85b0e6c"
      },
      "cell_type": "code",
      "source": "import matplotlib.pyplot as plt\n\nfig, ax = plt.subplots(2,1)\nax[0].plot(inception_history.history['loss'], color='b', label=\"Training loss\")\nax[0].plot(inception_history.history['val_loss'], color='r', label=\"validation loss\",axes =ax[0])\nlegend = ax[0].legend(loc='best', shadow=True)\n\nax[1].plot(inception_history.history['acc'], color='b', label=\"Training accuracy\")\nax[1].plot(inception_history.history['val_acc'], color='r',label=\"Validation accuracy\")\nlegend = ax[1].legend(loc='best', shadow=True)",
      "execution_count": 21,
      "outputs": [
        {
          "output_type": "display_data",
          "data": {
            "text/plain": "<Figure size 432x288 with 2 Axes>",
            "image/png": "[encoded data removed]"
          },
          "metadata": {}
        }
      ]
    },
    {
      "metadata": {
        "trusted": true,
        "_uuid": "cfcf4fb488cca89f0590fe984fd155ebfb55f50e"
      },
      "cell_type": "code",
      "source": "fig, ax = plt.subplots(2,1)\nax[0].plot(history.history['loss'], color='b', label=\"Training loss\")\nax[0].plot(history.history['val_loss'], color='r', label=\"validation loss\",axes =ax[0])\nlegend = ax[0].legend(loc='best', shadow=True)\n\nax[1].plot(history.history['acc'], color='b', label=\"Training accuracy\")\nax[1].plot(history.history['val_acc'], color='r',label=\"Validation accuracy\")\nlegend = ax[1].legend(loc='best', shadow=True)",
      "execution_count": 22,
      "outputs": [
        {
          "output_type": "display_data",
          "data": {
            "text/plain": "<Figure size 432x288 with 2 Axes>",
            "image/png": "[encoded data removed]"
          },
          "metadata": {}
        }
      ]
    },
    {
      "metadata": {
        "trusted": true,
        "_uuid": "6ced5172b41812c4c84eb50edc882701d7f4fdbd"
      },
      "cell_type": "code",
      "source": "fig, ax = plt.subplots(2,1)\nax[0].plot(resnet_history.history['loss'], color='b', label=\"Training loss\")\nax[0].plot(resnet_history.history['val_loss'], color='r', label=\"validation loss\",axes =ax[0])\nlegend = ax[0].legend(loc='best', shadow=True)\n\nax[1].plot(resnet_history.history['acc'], color='b', label=\"Training accuracy\")\nax[1].plot(resnet_history.history['val_acc'], color='r',label=\"Validation accuracy\")\nlegend = ax[1].legend(loc='best', shadow=True)",
      "execution_count": 23,
      "outputs": [
        {
          "output_type": "display_data",
          "data": {
            "text/plain": "<Figure size 432x288 with 2 Axes>",
            "image/png": "[encoded data removed]"
          },
          "metadata": {}
        }
      ]
    },
    {
      "metadata": {
        "_uuid": "825b99f57b959d11141f561732addfc56a8a5daa"
      },
      "cell_type": "markdown",
      "source": "**All predictions are taken and put in a 2d matrix form for ensembling**"
    },
    {
      "metadata": {
        "trusted": true,
        "_uuid": "aefd67b9d1bf854a5c97ed1489ef36480c8e501b"
      },
      "cell_type": "code",
      "source": "from sklearn.metrics import confusion_matrix\nimport seaborn as sns\nY_pred = inception.predict(training_incpetion)\n# Convert predictions classes to one hot vectors \nY_pred_classes = np.argmax(Y_pred,axis = 1) \nY_pred_testing = inception.predict(testing_incpetion)\nY_pred_classes_testing = np.argmax(Y_pred_testing,axis=1)\n\nY_pred_cnn = model.predict(train_tensors)\nY_pred_classes_cnn = np.argmax(Y_pred_cnn,axis = 1) \nY_pred_cnn_testing = model.predict(valid_tensors)\nY_pred_classes_cnn_testing = np.argmax(Y_pred_cnn_testing,axis = 1)\n\n\nY_pred_resnet = Resnet_model.predict(training_resnet)\nY_pred_classes_resnet = np.argmax(Y_pred_resnet,axis = 1) \nY_pred_resnet_testing = Resnet_model.predict(testing_resnet)\nY_pred_classes_resnet_testing = np.argmax(Y_pred_resnet_testing,axis = 1)\n\n\n# Convert validation observations to one hot vectors\n#Y_true = np.argmax(train_targets,axis = 1) \n# compute the confusion matrix\n#confusion_mtx = confusion_matrix(Y_true, Y_pred_classes) \n# plot the confusion matrix\n#ax = sns.heatmap(confusion_mtx)",
      "execution_count": 24,
      "outputs": []
    },
    {
      "metadata": {
        "trusted": true,
        "_uuid": "b146a241a547c2f2ebbf9c96a466347060937819"
      },
      "cell_type": "code",
      "source": "train = np.column_stack((Y_pred_classes , Y_pred_classes_cnn , Y_pred_classes_resnet))",
      "execution_count": 25,
      "outputs": []
    },
    {
      "metadata": {
        "trusted": true,
        "_uuid": "95f75856134a48d3e0b81c9b1a6b1940ee0a4df1"
      },
      "cell_type": "code",
      "source": "test = np.column_stack((Y_pred_classes_testing, Y_pred_classes_cnn_testing,Y_pred_classes_resnet_testing))",
      "execution_count": 26,
      "outputs": []
    },
    {
      "metadata": {
        "_uuid": "87d7afbf51fb265bb92f60699a95bd22d4162270"
      },
      "cell_type": "markdown",
      "source": "**The predictions form the above 3 algorithms are fitted into a 2d mattrix and given to a Neuarl network for prediction**"
    },
    {
      "metadata": {
        "trusted": true,
        "_uuid": "314b0ae913ba60770ca32451ba68a281e49312ff"
      },
      "cell_type": "code",
      "source": "model = Sequential()\nmodel.add(Dense(512, activation='relu', input_shape=(3,)))\nmodel.add(Dropout(.3))\nmodel.add(Dense(256, activation='relu'))\nmodel.add(Dropout(.2))\nmodel.add(Dense(128, activation='relu'))\nmodel.add(Dropout(0.3))\nmodel.add(Dense(64, activation='relu'))\nmodel.add(Dropout(0.2))\nmodel.add(Dense(32,activation='relu'))\nmodel.add(Dropout(0.3))\nmodel.add(Dense(2, activation='sigmoid'))\n\n# Compiling the model\nmodel.compile(loss = 'binary_crossentropy', optimizer='adam', metrics=['accuracy'])\nmodel.summary()",
      "execution_count": 27,
      "outputs": [
        {
          "output_type": "stream",
          "text": "_________________________________________________________________\nLayer (type)                 Output Shape              Param #   \n=================================================================\ndense_7 (Dense)              (None, 512)               2048      \n_________________________________________________________________\ndropout_2 (Dropout)          (None, 512)               0         \n_________________________________________________________________\ndense_8 (Dense)              (None, 256)               131328    \n_________________________________________________________________\ndropout_3 (Dropout)          (None, 256)               0         \n_________________________________________________________________\ndense_9 (Dense)              (None, 128)               32896     \n_________________________________________________________________\ndropout_4 (Dropout)          (None, 128)               0         \n_________________________________________________________________\ndense_10 (Dense)             (None, 64)                8256      \n_________________________________________________________________\ndropout_5 (Dropout)          (None, 64)                0         \n_________________________________________________________________\ndense_11 (Dense)             (None, 32)                2080      \n_________________________________________________________________\ndropout_6 (Dropout)          (None, 32)                0         \n_________________________________________________________________\ndense_12 (Dense)             (None, 2)                 66        \n=================================================================\nTotal params: 176,674\nTrainable params: 176,674\nNon-trainable params: 0\n_________________________________________________________________\n",
          "name": "stdout"
        }
      ]
    },
    {
      "metadata": {
        "trusted": true,
        "_uuid": "3957b866316ad8d132a93d3b2548a416cda88f1b"
      },
      "cell_type": "code",
      "source": "",
      "execution_count": null,
      "outputs": []
    },
    {
      "metadata": {
        "trusted": true,
        "_uuid": "1c2df3d1b16a48f6689ada1c704680ee29534ae5"
      },
      "cell_type": "code",
      "source": "\nhistory = model.fit(train, t_targets, epochs=5, batch_size=16, verbose=2)",
      "execution_count": 28,
      "outputs": [
        {
          "output_type": "stream",
          "text": "Epoch 1/5\n - 7s - loss: 0.2316 - acc: 0.9380\nEpoch 2/5\n - 3s - loss: 0.1841 - acc: 0.9596\nEpoch 3/5\n - 3s - loss: 0.1832 - acc: 0.9597\nEpoch 4/5\n - 3s - loss: 0.1783 - acc: 0.9597\nEpoch 5/5\n - 3s - loss: 0.1796 - acc: 0.9597\n",
          "name": "stdout"
        }
      ]
    },
    {
      "metadata": {
        "trusted": true,
        "_uuid": "4f463feabb97f782c20228ca3bf42614fc299492"
      },
      "cell_type": "code",
      "source": "from sklearn.metrics import confusion_matrix\npred = model.predict(train)\npred = np.argmax(pred,axis = 1) \ny_true = np.argmax(t_targets,axis = 1)",
      "execution_count": 32,
      "outputs": []
    },
    {
      "metadata": {
        "trusted": true,
        "_uuid": "5c7d8cd91b9125fdcd8d2c9afbade4765f58702a"
      },
      "cell_type": "code",
      "source": "CM = confusion_matrix(y_true, pred)\nfrom mlxtend.plotting import plot_confusion_matrix\nfig, ax = plot_confusion_matrix(conf_mat=CM ,  figsize=(5, 5))\nplt.show()",
      "execution_count": 33,
      "outputs": [
        {
          "output_type": "display_data",
          "data": {
            "text/plain": "<Figure size 360x360 with 1 Axes>",
            "image/png": "[encoded data removed]"
          },
          "metadata": {}
        }
      ]
    },
    {
      "metadata": {
        "trusted": true,
        "_uuid": "9aaf06e96e9b950c4e1c42c11533c1ed1ef64ca7"
      },
      "cell_type": "code",
      "source": "",
      "execution_count": null,
      "outputs": []
    },
    {
      "metadata": {
        "trusted": true,
        "_uuid": "a2fc89ad6585b8d718889e9c6c75a02f5be50271"
      },
      "cell_type": "code",
      "source": "",
      "execution_count": null,
      "outputs": []
    },
    {
      "metadata": {
        "trusted": true,
        "_uuid": "cd2e751e0cd77d2c1f63b3cb2e341ac3c9a28976"
      },
      "cell_type": "code",
      "source": "",
      "execution_count": null,
      "outputs": []
    },
    {
      "metadata": {
        "trusted": true,
        "_uuid": "ceaeffc76bfa30cf31395838309e85d5a9700b77"
      },
      "cell_type": "code",
      "source": "",
      "execution_count": null,
      "outputs": []
    },
    {
      "metadata": {
        "trusted": true,
        "_uuid": "6aceaa9431de8f98feb7022aee8637005d2c5391"
      },
      "cell_type": "code",
      "source": "",
      "execution_count": null,
      "outputs": []
    },
    {
      "metadata": {
        "trusted": true,
        "_uuid": "2c57549cd75f920c25980bb566eafdfa969c8219"
      },
      "cell_type": "code",
      "source": "",
      "execution_count": null,
      "outputs": []
    },
    {
      "metadata": {
        "trusted": true,
        "_uuid": "5b75b17778659a44722631e31b945a1ae7c23093"
      },
      "cell_type": "code",
      "source": "\n",
      "execution_count": null,
      "outputs": []
    },
    {
      "metadata": {
        "trusted": true,
        "_uuid": "ef9a48349fb57687e8ac22239701a1352ac455b6"
      },
      "cell_type": "code",
      "source": "",
      "execution_count": null,
      "outputs": []
    }
  ],
  "metadata": {
    "kernelspec": {
      "display_name": "Python 3",
      "language": "python",
      "name": "python3"
    },
    "language_info": {
      "name": "python",
      "version": "3.6.6",
      "mimetype": "text/x-python",
      "codemirror_mode": {
        "name": "ipython",
        "version": 3
      },
      "pygments_lexer": "ipython3",
      "nbconvert_exporter": "python",
      "file_extension": ".py"
    }
  },
  "nbformat": 4,
  "nbformat_minor": 1
}